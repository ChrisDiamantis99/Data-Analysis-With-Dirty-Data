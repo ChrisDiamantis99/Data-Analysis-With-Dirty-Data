{
 "cells": [
  {
   "attachments": {},
   "cell_type": "markdown",
   "metadata": {},
   "source": [
    "Import important packages"
   ]
  },
  {
   "cell_type": "code",
   "execution_count": 290,
   "metadata": {},
   "outputs": [],
   "source": [
    "import pandas as pd\n",
    "import numpy as np\n",
    "import matplotlib.pyplot as plt\n",
    "import seaborn as sns"
   ]
  },
  {
   "cell_type": "code",
   "execution_count": 100,
   "metadata": {},
   "outputs": [],
   "source": [
    "pd.set_option('display.max_columns', 85)\n",
    "pd.set_option('display.max_rows', 85)"
   ]
  },
  {
   "attachments": {},
   "cell_type": "markdown",
   "metadata": {},
   "source": [
    "Uploading the data"
   ]
  },
  {
   "cell_type": "code",
   "execution_count": 101,
   "metadata": {},
   "outputs": [],
   "source": [
    "dirty_data = pd.read_csv(\"C://Users//xrist//OneDrive//Υπολογιστής//Github_repos//Data_Analysis_With_Dirty_Data//messy_data.csv\", sep = ';', encoding='latin-1')"
   ]
  },
  {
   "attachments": {},
   "cell_type": "markdown",
   "metadata": {},
   "source": [
    "Tranform into DataFrame to handle the data more easily"
   ]
  },
  {
   "cell_type": "code",
   "execution_count": 102,
   "metadata": {},
   "outputs": [],
   "source": [
    "df = pd.DataFrame(dirty_data)"
   ]
  },
  {
   "cell_type": "code",
   "execution_count": 103,
   "metadata": {},
   "outputs": [
    {
     "data": {
      "text/html": [
       "<div>\n",
       "<style scoped>\n",
       "    .dataframe tbody tr th:only-of-type {\n",
       "        vertical-align: middle;\n",
       "    }\n",
       "\n",
       "    .dataframe tbody tr th {\n",
       "        vertical-align: top;\n",
       "    }\n",
       "\n",
       "    .dataframe thead th {\n",
       "        text-align: right;\n",
       "    }\n",
       "</style>\n",
       "<table border=\"1\" class=\"dataframe\">\n",
       "  <thead>\n",
       "    <tr style=\"text-align: right;\">\n",
       "      <th></th>\n",
       "      <th>IMBD title ID</th>\n",
       "      <th>Original titlÊ</th>\n",
       "      <th>Release year</th>\n",
       "      <th>Genrë¨</th>\n",
       "      <th>Duration</th>\n",
       "      <th>Country</th>\n",
       "      <th>Content Rating</th>\n",
       "      <th>Director</th>\n",
       "      <th>Unnamed: 8</th>\n",
       "      <th>Income</th>\n",
       "      <th>Votes</th>\n",
       "      <th>Score</th>\n",
       "    </tr>\n",
       "  </thead>\n",
       "  <tbody>\n",
       "    <tr>\n",
       "      <th>0</th>\n",
       "      <td>tt0111161</td>\n",
       "      <td>The Shawshank Redemption</td>\n",
       "      <td>1995-02-10</td>\n",
       "      <td>Drama</td>\n",
       "      <td>142</td>\n",
       "      <td>USA</td>\n",
       "      <td>R</td>\n",
       "      <td>Frank Darabont</td>\n",
       "      <td>NaN</td>\n",
       "      <td>$ 28815245</td>\n",
       "      <td>2.278.845</td>\n",
       "      <td>9.3</td>\n",
       "    </tr>\n",
       "    <tr>\n",
       "      <th>1</th>\n",
       "      <td>tt0068646</td>\n",
       "      <td>The Godfather</td>\n",
       "      <td>09 21 1972</td>\n",
       "      <td>Crime, Drama</td>\n",
       "      <td>175</td>\n",
       "      <td>USA</td>\n",
       "      <td>R</td>\n",
       "      <td>Francis Ford Coppola</td>\n",
       "      <td>NaN</td>\n",
       "      <td>$ 246120974</td>\n",
       "      <td>1.572.674</td>\n",
       "      <td>9.2</td>\n",
       "    </tr>\n",
       "    <tr>\n",
       "      <th>2</th>\n",
       "      <td>tt0468569</td>\n",
       "      <td>The Dark Knight</td>\n",
       "      <td>23 -07-2008</td>\n",
       "      <td>Action, Crime, Drama</td>\n",
       "      <td>152</td>\n",
       "      <td>US</td>\n",
       "      <td>PG-13</td>\n",
       "      <td>Christopher Nolan</td>\n",
       "      <td>NaN</td>\n",
       "      <td>$ 1005455211</td>\n",
       "      <td>2.241.615</td>\n",
       "      <td>9.</td>\n",
       "    </tr>\n",
       "    <tr>\n",
       "      <th>3</th>\n",
       "      <td>tt0071562</td>\n",
       "      <td>The Godfather: Part II</td>\n",
       "      <td>1975-09-25</td>\n",
       "      <td>Crime, Drama</td>\n",
       "      <td>220</td>\n",
       "      <td>USA</td>\n",
       "      <td>R</td>\n",
       "      <td>Francis Ford Coppola</td>\n",
       "      <td>NaN</td>\n",
       "      <td>$ 4o8,035,783</td>\n",
       "      <td>1.098.714</td>\n",
       "      <td>9,.0</td>\n",
       "    </tr>\n",
       "    <tr>\n",
       "      <th>4</th>\n",
       "      <td>tt0110912</td>\n",
       "      <td>Pulp Fiction</td>\n",
       "      <td>1994-10-28</td>\n",
       "      <td>Crime, Drama</td>\n",
       "      <td></td>\n",
       "      <td>USA</td>\n",
       "      <td>R</td>\n",
       "      <td>Quentin Tarantino</td>\n",
       "      <td>NaN</td>\n",
       "      <td>$ 222831817</td>\n",
       "      <td>1.780.147</td>\n",
       "      <td>8,9f</td>\n",
       "    </tr>\n",
       "    <tr>\n",
       "      <th>...</th>\n",
       "      <td>...</td>\n",
       "      <td>...</td>\n",
       "      <td>...</td>\n",
       "      <td>...</td>\n",
       "      <td>...</td>\n",
       "      <td>...</td>\n",
       "      <td>...</td>\n",
       "      <td>...</td>\n",
       "      <td>...</td>\n",
       "      <td>...</td>\n",
       "      <td>...</td>\n",
       "      <td>...</td>\n",
       "    </tr>\n",
       "    <tr>\n",
       "      <th>96</th>\n",
       "      <td>tt0070735</td>\n",
       "      <td>The Sting</td>\n",
       "      <td>1974-03-21</td>\n",
       "      <td>Comedy, Crime, Drama</td>\n",
       "      <td>129</td>\n",
       "      <td>USA</td>\n",
       "      <td>PG</td>\n",
       "      <td>George Roy Hill</td>\n",
       "      <td>NaN</td>\n",
       "      <td>$ 156000000</td>\n",
       "      <td>236.285</td>\n",
       "      <td>7.5</td>\n",
       "    </tr>\n",
       "    <tr>\n",
       "      <th>97</th>\n",
       "      <td>tt0082096</td>\n",
       "      <td>Das Boot</td>\n",
       "      <td>1982-03-18</td>\n",
       "      <td>Adventure, Drama, Thriller</td>\n",
       "      <td>149</td>\n",
       "      <td>West Germany</td>\n",
       "      <td>R</td>\n",
       "      <td>Wolfgang Petersen</td>\n",
       "      <td>NaN</td>\n",
       "      <td>$ 11487676</td>\n",
       "      <td>226.427</td>\n",
       "      <td>7.5</td>\n",
       "    </tr>\n",
       "    <tr>\n",
       "      <th>98</th>\n",
       "      <td>tt0059578</td>\n",
       "      <td>Per qualche dollaro in piÃ¹</td>\n",
       "      <td>1965-12-20</td>\n",
       "      <td>Western</td>\n",
       "      <td>132</td>\n",
       "      <td>Italy</td>\n",
       "      <td>NaN</td>\n",
       "      <td>Sergio Leone</td>\n",
       "      <td>NaN</td>\n",
       "      <td>$ 15000000</td>\n",
       "      <td>226.039</td>\n",
       "      <td>7.4</td>\n",
       "    </tr>\n",
       "    <tr>\n",
       "      <th>99</th>\n",
       "      <td>tt1832382</td>\n",
       "      <td>Jodaeiye Nader az Simin</td>\n",
       "      <td>2011-10-21</td>\n",
       "      <td>Drama</td>\n",
       "      <td>123</td>\n",
       "      <td>Iran</td>\n",
       "      <td>PG-13</td>\n",
       "      <td>Asghar Farhadi</td>\n",
       "      <td>NaN</td>\n",
       "      <td>$ 22926076</td>\n",
       "      <td>214.165</td>\n",
       "      <td>7.4</td>\n",
       "    </tr>\n",
       "    <tr>\n",
       "      <th>100</th>\n",
       "      <td>tt0045152</td>\n",
       "      <td>Singin' in the Rain</td>\n",
       "      <td>1953-02-05</td>\n",
       "      <td>Comedy, Musical, Romance</td>\n",
       "      <td>103</td>\n",
       "      <td>USA</td>\n",
       "      <td>NaN</td>\n",
       "      <td>Stanley Donen</td>\n",
       "      <td>NaN</td>\n",
       "      <td>$ 1864182</td>\n",
       "      <td>213.152</td>\n",
       "      <td>7.4</td>\n",
       "    </tr>\n",
       "  </tbody>\n",
       "</table>\n",
       "<p>101 rows × 12 columns</p>\n",
       "</div>"
      ],
      "text/plain": [
       "    IMBD title ID               Original titlÊ  Release year  \\\n",
       "0       tt0111161     The Shawshank Redemption    1995-02-10   \n",
       "1       tt0068646                The Godfather    09 21 1972   \n",
       "2       tt0468569              The Dark Knight   23 -07-2008   \n",
       "3       tt0071562       The Godfather: Part II    1975-09-25   \n",
       "4       tt0110912                 Pulp Fiction    1994-10-28   \n",
       "..            ...                          ...           ...   \n",
       "96      tt0070735                    The Sting    1974-03-21   \n",
       "97      tt0082096                     Das Boot    1982-03-18   \n",
       "98      tt0059578  Per qualche dollaro in piÃ¹    1965-12-20   \n",
       "99      tt1832382      Jodaeiye Nader az Simin    2011-10-21   \n",
       "100     tt0045152          Singin' in the Rain    1953-02-05   \n",
       "\n",
       "                         Genrë¨ Duration       Country Content Rating  \\\n",
       "0                         Drama      142           USA              R   \n",
       "1                  Crime, Drama      175           USA              R   \n",
       "2          Action, Crime, Drama      152            US          PG-13   \n",
       "3                  Crime, Drama      220           USA              R   \n",
       "4                  Crime, Drama                    USA              R   \n",
       "..                          ...      ...           ...            ...   \n",
       "96         Comedy, Crime, Drama      129           USA             PG   \n",
       "97   Adventure, Drama, Thriller      149  West Germany              R   \n",
       "98                      Western      132         Italy            NaN   \n",
       "99                        Drama      123          Iran          PG-13   \n",
       "100    Comedy, Musical, Romance      103           USA            NaN   \n",
       "\n",
       "                 Director  Unnamed: 8         Income     Votes  Score  \n",
       "0          Frank Darabont         NaN     $ 28815245  2.278.845   9.3  \n",
       "1    Francis Ford Coppola         NaN    $ 246120974  1.572.674   9.2  \n",
       "2       Christopher Nolan         NaN   $ 1005455211  2.241.615    9.  \n",
       "3    Francis Ford Coppola         NaN  $ 4o8,035,783  1.098.714  9,.0  \n",
       "4       Quentin Tarantino         NaN    $ 222831817  1.780.147  8,9f  \n",
       "..                    ...         ...            ...        ...   ...  \n",
       "96        George Roy Hill         NaN    $ 156000000    236.285   7.5  \n",
       "97      Wolfgang Petersen         NaN     $ 11487676    226.427   7.5  \n",
       "98           Sergio Leone         NaN     $ 15000000    226.039   7.4  \n",
       "99         Asghar Farhadi         NaN     $ 22926076    214.165   7.4  \n",
       "100         Stanley Donen         NaN      $ 1864182    213.152   7.4  \n",
       "\n",
       "[101 rows x 12 columns]"
      ]
     },
     "execution_count": 103,
     "metadata": {},
     "output_type": "execute_result"
    }
   ],
   "source": [
    "df"
   ]
  },
  {
   "attachments": {},
   "cell_type": "markdown",
   "metadata": {},
   "source": [
    "**USEFUL INFORMATIONS OF DATA**"
   ]
  },
  {
   "cell_type": "code",
   "execution_count": 104,
   "metadata": {},
   "outputs": [
    {
     "data": {
      "text/plain": [
       "(101, 12)"
      ]
     },
     "execution_count": 104,
     "metadata": {},
     "output_type": "execute_result"
    }
   ],
   "source": [
    "df.shape"
   ]
  },
  {
   "cell_type": "code",
   "execution_count": 105,
   "metadata": {},
   "outputs": [
    {
     "name": "stdout",
     "output_type": "stream",
     "text": [
      "<class 'pandas.core.frame.DataFrame'>\n",
      "RangeIndex: 101 entries, 0 to 100\n",
      "Data columns (total 12 columns):\n",
      " #   Column          Non-Null Count  Dtype  \n",
      "---  ------          --------------  -----  \n",
      " 0   IMBD title ID   100 non-null    object \n",
      " 1   Original titlÊ  100 non-null    object \n",
      " 2   Release year    100 non-null    object \n",
      " 3   Genrë¨          100 non-null    object \n",
      " 4   Duration        99 non-null     object \n",
      " 5   Country         100 non-null    object \n",
      " 6   Content Rating  77 non-null     object \n",
      " 7   Director        100 non-null    object \n",
      " 8   Unnamed: 8      0 non-null      float64\n",
      " 9   Income          100 non-null    object \n",
      " 10   Votes          100 non-null    object \n",
      " 11  Score           100 non-null    object \n",
      "dtypes: float64(1), object(11)\n",
      "memory usage: 9.6+ KB\n"
     ]
    }
   ],
   "source": [
    "df.info()"
   ]
  },
  {
   "cell_type": "code",
   "execution_count": 106,
   "metadata": {},
   "outputs": [
    {
     "data": {
      "text/plain": [
       "RangeIndex(start=0, stop=101, step=1)"
      ]
     },
     "execution_count": 106,
     "metadata": {},
     "output_type": "execute_result"
    }
   ],
   "source": [
    "df.index"
   ]
  },
  {
   "attachments": {},
   "cell_type": "markdown",
   "metadata": {},
   "source": [
    "#### **DATA CLEANING**"
   ]
  },
  {
   "attachments": {},
   "cell_type": "markdown",
   "metadata": {},
   "source": [
    "Rename the columns to more appropriate names"
   ]
  },
  {
   "cell_type": "code",
   "execution_count": 107,
   "metadata": {},
   "outputs": [
    {
     "data": {
      "text/plain": [
       "Index(['IMBD title ID', 'Original titlÊ', 'Release year', 'Genrë¨', 'Duration',\n",
       "       'Country', 'Content Rating', 'Director', 'Unnamed: 8', 'Income',\n",
       "       ' Votes ', 'Score'],\n",
       "      dtype='object')"
      ]
     },
     "execution_count": 107,
     "metadata": {},
     "output_type": "execute_result"
    }
   ],
   "source": [
    "df.columns"
   ]
  },
  {
   "cell_type": "code",
   "execution_count": 108,
   "metadata": {},
   "outputs": [],
   "source": [
    "df.columns = df.columns.str.replace(\" \", \"_\")"
   ]
  },
  {
   "cell_type": "code",
   "execution_count": 109,
   "metadata": {},
   "outputs": [],
   "source": [
    "df.rename(\n",
    "    columns = {\n",
    "        \"Original_titlÊ\" : \"Original_title\",\n",
    "        'Genrë¨' : 'Genre',\n",
    "        \"_Votes_\" : \"Votes\"\n",
    "    },\n",
    "inplace = True    \n",
    ")"
   ]
  },
  {
   "attachments": {},
   "cell_type": "markdown",
   "metadata": {},
   "source": [
    "The column **Unnamed: 8** has NULL values so we must drop it!"
   ]
  },
  {
   "cell_type": "code",
   "execution_count": 110,
   "metadata": {},
   "outputs": [],
   "source": [
    "df.drop([\"Unnamed:_8\"], axis = 1, inplace = True)"
   ]
  },
  {
   "attachments": {},
   "cell_type": "markdown",
   "metadata": {},
   "source": [
    "Also we are going to drop NULL rows"
   ]
  },
  {
   "cell_type": "code",
   "execution_count": 111,
   "metadata": {},
   "outputs": [],
   "source": [
    "df.dropna(thresh = 11,inplace = True)"
   ]
  },
  {
   "attachments": {},
   "cell_type": "markdown",
   "metadata": {},
   "source": [
    "The **dirty_data** has some error values in columns so we must fix it!"
   ]
  },
  {
   "attachments": {},
   "cell_type": "markdown",
   "metadata": {},
   "source": [
    "1. We begin with **Score** column"
   ]
  },
  {
   "cell_type": "code",
   "execution_count": 112,
   "metadata": {},
   "outputs": [],
   "source": [
    "df.at[2, 'Score'] = 9.0\n",
    "df.at[3, 'Score'] = 9.0\n",
    "df.at[4, 'Score'] = 8.9\n",
    "df.at[5, 'Score'] = 8.9\n",
    "df.at[8, 'Score'] = 8.8\n",
    "df.at[10, 'Score'] = 8.8\n",
    "df.at[15, 'Score'] = 8.7\n",
    "df.at[16, 'Score'] = 8.7"
   ]
  },
  {
   "attachments": {},
   "cell_type": "markdown",
   "metadata": {},
   "source": [
    "2. We continue with **Release_year** column"
   ]
  },
  {
   "cell_type": "code",
   "execution_count": 113,
   "metadata": {},
   "outputs": [],
   "source": [
    "df.loc[83, 'Release_year'] = '1983-01-12'"
   ]
  },
  {
   "cell_type": "code",
   "execution_count": 114,
   "metadata": {},
   "outputs": [],
   "source": [
    "df.loc[84, 'Release_year'] = '1976-02-09'"
   ]
  },
  {
   "cell_type": "code",
   "execution_count": 115,
   "metadata": {},
   "outputs": [
    {
     "name": "stderr",
     "output_type": "stream",
     "text": [
      "C:\\Users\\xrist\\AppData\\Local\\Temp\\ipykernel_3916\\943627111.py:1: UserWarning: Parsing dates in DD/MM/YYYY format when dayfirst=False (the default) was specified. This may lead to inconsistently parsed dates! Specify a format to ensure consistent parsing.\n",
      "  df['Release_year'] = pd.to_datetime(df.Release_year)\n"
     ]
    }
   ],
   "source": [
    "df['Release_year'] = pd.to_datetime(df.Release_year)"
   ]
  },
  {
   "attachments": {},
   "cell_type": "markdown",
   "metadata": {},
   "source": [
    "3. Next is the column **Duration**"
   ]
  },
  {
   "cell_type": "code",
   "execution_count": 116,
   "metadata": {},
   "outputs": [],
   "source": [
    "df['Duration'] = df['Duration'].replace(\" \", 0)\n",
    "df['Duration'] = df['Duration'].replace('178c', 178)\n",
    "df['Duration'] = df['Duration'].replace(\"Inf\", 0)\n",
    "df['Duration'] = df['Duration'].replace(\"Nan\", 0)\n",
    "df['Duration'] = df['Duration'].replace(\"-\", 0)\n",
    "df['Duration'] = df['Duration'].replace(\"Not Applicable\", 0)"
   ]
  },
  {
   "cell_type": "code",
   "execution_count": 221,
   "metadata": {},
   "outputs": [],
   "source": [
    "df['Duration'] = df['Duration'].astype('int')"
   ]
  },
  {
   "attachments": {},
   "cell_type": "markdown",
   "metadata": {},
   "source": [
    "4. Column **Income**"
   ]
  },
  {
   "cell_type": "code",
   "execution_count": 117,
   "metadata": {},
   "outputs": [],
   "source": [
    "df.loc[3, 'Income'] = \"$ 408035783\""
   ]
  },
  {
   "cell_type": "code",
   "execution_count": 118,
   "metadata": {},
   "outputs": [],
   "source": [
    "df['Income'] = df['Income'].astype('string')"
   ]
  },
  {
   "cell_type": "code",
   "execution_count": 119,
   "metadata": {},
   "outputs": [],
   "source": [
    "df['Income'] = df['Income'].str.replace('$', '', regex = True)"
   ]
  },
  {
   "cell_type": "code",
   "execution_count": 120,
   "metadata": {},
   "outputs": [],
   "source": [
    "df['Income'] = df['Income'].astype('int32')"
   ]
  },
  {
   "attachments": {},
   "cell_type": "markdown",
   "metadata": {},
   "source": [
    "5. We continue with column **Votes**"
   ]
  },
  {
   "cell_type": "code",
   "execution_count": 121,
   "metadata": {},
   "outputs": [],
   "source": [
    "df['Votes'] = df['Votes'].astype('string')\n",
    "df['Votes'] = df['Votes'].str.replace('.', '', regex = True)"
   ]
  },
  {
   "cell_type": "code",
   "execution_count": 122,
   "metadata": {},
   "outputs": [],
   "source": [
    "df['Votes'] = df['Votes'].astype('int32')"
   ]
  },
  {
   "attachments": {},
   "cell_type": "markdown",
   "metadata": {},
   "source": [
    "We split the **Genre** column and later we drop it."
   ]
  },
  {
   "cell_type": "code",
   "execution_count": 123,
   "metadata": {},
   "outputs": [],
   "source": [
    "df[['Genre1', 'Genre2', 'Genre3']] = df['Genre'].str.split(expand = True)"
   ]
  },
  {
   "cell_type": "code",
   "execution_count": 124,
   "metadata": {},
   "outputs": [],
   "source": [
    "df.drop('Genre', axis = 1, inplace=True)"
   ]
  },
  {
   "cell_type": "code",
   "execution_count": 125,
   "metadata": {},
   "outputs": [],
   "source": [
    "df['Genre1'] = df['Genre1'].astype('string')\n",
    "df['Genre2'] = df['Genre2'].astype('string')\n",
    "df['Genre3'] = df['Genre3'].astype('string')"
   ]
  },
  {
   "cell_type": "code",
   "execution_count": 126,
   "metadata": {},
   "outputs": [],
   "source": [
    "df['Genre1'] = df['Genre1'].str.replace(',', '')\n",
    "df['Genre2'] = df['Genre2'].str.replace(',', '')\n",
    "df['Genre3'] = df['Genre3'].str.replace(',', '')"
   ]
  },
  {
   "cell_type": "code",
   "execution_count": 127,
   "metadata": {},
   "outputs": [
    {
     "name": "stderr",
     "output_type": "stream",
     "text": [
      "C:\\Users\\xrist\\AppData\\Local\\Temp\\ipykernel_3916\\3600621952.py:1: SettingWithCopyWarning: \n",
      "A value is trying to be set on a copy of a slice from a DataFrame\n",
      "\n",
      "See the caveats in the documentation: https://pandas.pydata.org/pandas-docs/stable/user_guide/indexing.html#returning-a-view-versus-a-copy\n",
      "  df[['Genre1', 'Genre2', 'Genre3']].fillna('None', inplace = True)\n"
     ]
    }
   ],
   "source": [
    "df[['Genre1', 'Genre2', 'Genre3']].fillna('None', inplace = True)"
   ]
  },
  {
   "attachments": {},
   "cell_type": "markdown",
   "metadata": {},
   "source": [
    "A wrong value for New Zealand & US"
   ]
  },
  {
   "cell_type": "code",
   "execution_count": 128,
   "metadata": {},
   "outputs": [],
   "source": [
    "df.at[11, 'Country'] = 'New Zealand'\n",
    "df.at[15, 'Country'] = 'New Zealand'\n",
    "df.at[2, 'Country'] = 'USA'\n",
    "df.at[24, 'Country'] = 'USA'"
   ]
  },
  {
   "attachments": {},
   "cell_type": "markdown",
   "metadata": {},
   "source": [
    "**Compute the mean, sum, range and other interesting statistics for numeric columns**"
   ]
  },
  {
   "cell_type": "code",
   "execution_count": 129,
   "metadata": {},
   "outputs": [],
   "source": [
    "country_grp = df.groupby(by = df['Country'])"
   ]
  },
  {
   "cell_type": "code",
   "execution_count": 130,
   "metadata": {},
   "outputs": [
    {
     "data": {
      "text/html": [
       "<div>\n",
       "<style scoped>\n",
       "    .dataframe tbody tr th:only-of-type {\n",
       "        vertical-align: middle;\n",
       "    }\n",
       "\n",
       "    .dataframe tbody tr th {\n",
       "        vertical-align: top;\n",
       "    }\n",
       "\n",
       "    .dataframe thead th {\n",
       "        text-align: right;\n",
       "    }\n",
       "</style>\n",
       "<table border=\"1\" class=\"dataframe\">\n",
       "  <thead>\n",
       "    <tr style=\"text-align: right;\">\n",
       "      <th></th>\n",
       "      <th>median</th>\n",
       "      <th>mean</th>\n",
       "    </tr>\n",
       "    <tr>\n",
       "      <th>Country</th>\n",
       "      <th></th>\n",
       "      <th></th>\n",
       "    </tr>\n",
       "  </thead>\n",
       "  <tbody>\n",
       "    <tr>\n",
       "      <th>Brazil</th>\n",
       "      <td>30680793.0</td>\n",
       "      <td>3.068079e+07</td>\n",
       "    </tr>\n",
       "    <tr>\n",
       "      <th>Denmark</th>\n",
       "      <td>15843274.0</td>\n",
       "      <td>1.584327e+07</td>\n",
       "    </tr>\n",
       "    <tr>\n",
       "      <th>France</th>\n",
       "      <td>173924742.0</td>\n",
       "      <td>1.739247e+08</td>\n",
       "    </tr>\n",
       "    <tr>\n",
       "      <th>Germany</th>\n",
       "      <td>199406315.5</td>\n",
       "      <td>1.994063e+08</td>\n",
       "    </tr>\n",
       "    <tr>\n",
       "      <th>Iran</th>\n",
       "      <td>22926076.0</td>\n",
       "      <td>2.292608e+07</td>\n",
       "    </tr>\n",
       "    <tr>\n",
       "      <th>Italy</th>\n",
       "      <td>12682696.0</td>\n",
       "      <td>1.268270e+07</td>\n",
       "    </tr>\n",
       "    <tr>\n",
       "      <th>Japan</th>\n",
       "      <td>169785629.0</td>\n",
       "      <td>1.751918e+08</td>\n",
       "    </tr>\n",
       "    <tr>\n",
       "      <th>New Zealand</th>\n",
       "      <td>951227416.0</td>\n",
       "      <td>9.938109e+08</td>\n",
       "    </tr>\n",
       "    <tr>\n",
       "      <th>South Korea</th>\n",
       "      <td>15002116.0</td>\n",
       "      <td>1.500212e+07</td>\n",
       "    </tr>\n",
       "    <tr>\n",
       "      <th>UK</th>\n",
       "      <td>92388338.0</td>\n",
       "      <td>1.774434e+08</td>\n",
       "    </tr>\n",
       "    <tr>\n",
       "      <th>USA</th>\n",
       "      <td>236027204.5</td>\n",
       "      <td>2.967422e+08</td>\n",
       "    </tr>\n",
       "    <tr>\n",
       "      <th>West Germany</th>\n",
       "      <td>11487676.0</td>\n",
       "      <td>1.148768e+07</td>\n",
       "    </tr>\n",
       "  </tbody>\n",
       "</table>\n",
       "</div>"
      ],
      "text/plain": [
       "                   median          mean\n",
       "Country                                \n",
       "Brazil         30680793.0  3.068079e+07\n",
       "Denmark        15843274.0  1.584327e+07\n",
       "France        173924742.0  1.739247e+08\n",
       "Germany       199406315.5  1.994063e+08\n",
       "Iran           22926076.0  2.292608e+07\n",
       "Italy          12682696.0  1.268270e+07\n",
       "Japan         169785629.0  1.751918e+08\n",
       "New Zealand   951227416.0  9.938109e+08\n",
       "South Korea    15002116.0  1.500212e+07\n",
       "UK             92388338.0  1.774434e+08\n",
       "USA           236027204.5  2.967422e+08\n",
       "West Germany   11487676.0  1.148768e+07"
      ]
     },
     "execution_count": 130,
     "metadata": {},
     "output_type": "execute_result"
    }
   ],
   "source": [
    "country_grp['Income'].agg(['median', 'mean'])"
   ]
  },
  {
   "attachments": {},
   "cell_type": "markdown",
   "metadata": {},
   "source": [
    "#### **DATA FILTERING**"
   ]
  },
  {
   "cell_type": "code",
   "execution_count": 131,
   "metadata": {},
   "outputs": [
    {
     "data": {
      "text/html": [
       "<div>\n",
       "<style scoped>\n",
       "    .dataframe tbody tr th:only-of-type {\n",
       "        vertical-align: middle;\n",
       "    }\n",
       "\n",
       "    .dataframe tbody tr th {\n",
       "        vertical-align: top;\n",
       "    }\n",
       "\n",
       "    .dataframe thead th {\n",
       "        text-align: right;\n",
       "    }\n",
       "</style>\n",
       "<table border=\"1\" class=\"dataframe\">\n",
       "  <thead>\n",
       "    <tr style=\"text-align: right;\">\n",
       "      <th></th>\n",
       "      <th>IMBD_title_ID</th>\n",
       "      <th>Original_title</th>\n",
       "      <th>Release_year</th>\n",
       "      <th>Duration</th>\n",
       "      <th>Country</th>\n",
       "      <th>Content_Rating</th>\n",
       "      <th>Director</th>\n",
       "      <th>Income</th>\n",
       "      <th>Votes</th>\n",
       "      <th>Score</th>\n",
       "      <th>Genre1</th>\n",
       "      <th>Genre2</th>\n",
       "      <th>Genre3</th>\n",
       "    </tr>\n",
       "  </thead>\n",
       "  <tbody>\n",
       "    <tr>\n",
       "      <th>0</th>\n",
       "      <td>tt0111161</td>\n",
       "      <td>The Shawshank Redemption</td>\n",
       "      <td>1995-02-10</td>\n",
       "      <td>142</td>\n",
       "      <td>USA</td>\n",
       "      <td>R</td>\n",
       "      <td>Frank Darabont</td>\n",
       "      <td>28815245</td>\n",
       "      <td>2278845</td>\n",
       "      <td>9.3</td>\n",
       "      <td>Drama</td>\n",
       "      <td>None</td>\n",
       "      <td>None</td>\n",
       "    </tr>\n",
       "    <tr>\n",
       "      <th>1</th>\n",
       "      <td>tt0068646</td>\n",
       "      <td>The Godfather</td>\n",
       "      <td>1972-09-21</td>\n",
       "      <td>175</td>\n",
       "      <td>USA</td>\n",
       "      <td>R</td>\n",
       "      <td>Francis Ford Coppola</td>\n",
       "      <td>246120974</td>\n",
       "      <td>1572674</td>\n",
       "      <td>9.2</td>\n",
       "      <td>Crime</td>\n",
       "      <td>Drama</td>\n",
       "      <td>None</td>\n",
       "    </tr>\n",
       "    <tr>\n",
       "      <th>2</th>\n",
       "      <td>tt0468569</td>\n",
       "      <td>The Dark Knight</td>\n",
       "      <td>2008-07-23</td>\n",
       "      <td>152</td>\n",
       "      <td>USA</td>\n",
       "      <td>PG-13</td>\n",
       "      <td>Christopher Nolan</td>\n",
       "      <td>1005455211</td>\n",
       "      <td>2241615</td>\n",
       "      <td>9.0</td>\n",
       "      <td>Action</td>\n",
       "      <td>Crime</td>\n",
       "      <td>Drama</td>\n",
       "    </tr>\n",
       "    <tr>\n",
       "      <th>3</th>\n",
       "      <td>tt0071562</td>\n",
       "      <td>The Godfather: Part II</td>\n",
       "      <td>1975-09-25</td>\n",
       "      <td>220</td>\n",
       "      <td>USA</td>\n",
       "      <td>R</td>\n",
       "      <td>Francis Ford Coppola</td>\n",
       "      <td>408035783</td>\n",
       "      <td>1098714</td>\n",
       "      <td>9.0</td>\n",
       "      <td>Crime</td>\n",
       "      <td>Drama</td>\n",
       "      <td>None</td>\n",
       "    </tr>\n",
       "    <tr>\n",
       "      <th>4</th>\n",
       "      <td>tt0110912</td>\n",
       "      <td>Pulp Fiction</td>\n",
       "      <td>1994-10-28</td>\n",
       "      <td>0</td>\n",
       "      <td>USA</td>\n",
       "      <td>R</td>\n",
       "      <td>Quentin Tarantino</td>\n",
       "      <td>222831817</td>\n",
       "      <td>1780147</td>\n",
       "      <td>8.9</td>\n",
       "      <td>Crime</td>\n",
       "      <td>Drama</td>\n",
       "      <td>None</td>\n",
       "    </tr>\n",
       "  </tbody>\n",
       "</table>\n",
       "</div>"
      ],
      "text/plain": [
       "  IMBD_title_ID            Original_title Release_year Duration Country  \\\n",
       "0     tt0111161  The Shawshank Redemption   1995-02-10      142     USA   \n",
       "1     tt0068646             The Godfather   1972-09-21      175     USA   \n",
       "2     tt0468569           The Dark Knight   2008-07-23      152     USA   \n",
       "3     tt0071562    The Godfather: Part II   1975-09-25      220     USA   \n",
       "4     tt0110912              Pulp Fiction   1994-10-28        0     USA   \n",
       "\n",
       "  Content_Rating              Director      Income    Votes Score  Genre1  \\\n",
       "0              R        Frank Darabont    28815245  2278845   9.3   Drama   \n",
       "1              R  Francis Ford Coppola   246120974  1572674   9.2   Crime   \n",
       "2          PG-13     Christopher Nolan  1005455211  2241615   9.0  Action   \n",
       "3              R  Francis Ford Coppola   408035783  1098714   9.0   Crime   \n",
       "4              R     Quentin Tarantino   222831817  1780147   8.9   Crime   \n",
       "\n",
       "  Genre2 Genre3  \n",
       "0   None   None  \n",
       "1  Drama   None  \n",
       "2  Crime  Drama  \n",
       "3  Drama   None  \n",
       "4  Drama   None  "
      ]
     },
     "execution_count": 131,
     "metadata": {},
     "output_type": "execute_result"
    }
   ],
   "source": [
    "df.head()"
   ]
  },
  {
   "attachments": {},
   "cell_type": "markdown",
   "metadata": {},
   "source": [
    "Sum of countries that the production is located"
   ]
  },
  {
   "cell_type": "code",
   "execution_count": 132,
   "metadata": {},
   "outputs": [],
   "source": [
    "countries_sum = df['Country'].value_counts()"
   ]
  },
  {
   "cell_type": "code",
   "execution_count": 133,
   "metadata": {},
   "outputs": [
    {
     "data": {
      "text/plain": [
       "Text(0.5, 1.0, 'Countries that productions are located')"
      ]
     },
     "execution_count": 133,
     "metadata": {},
     "output_type": "execute_result"
    },
    {
     "data": {
      "image/png": "[encoded data removed]",
      "text/plain": [
       "<Figure size 2000x600 with 1 Axes>"
      ]
     },
     "metadata": {},
     "output_type": "display_data"
    }
   ],
   "source": [
    "plt.figure(figsize = (20, 6))\n",
    "color_list = ['red', 'white', 'blue', 'white', 'green', 'yellow', 'green', 'white', 'blue', 'red', 'yellow', 'green']\n",
    "plt.bar(countries_sum.index, countries_sum, width = 0.6, color = color_list, edgecolor = 'black')\n",
    "plt.title('Countries that productions are located')"
   ]
  },
  {
   "attachments": {},
   "cell_type": "markdown",
   "metadata": {},
   "source": [
    "> **Top 10 Rated Movies**"
   ]
  },
  {
   "cell_type": "code",
   "execution_count": 134,
   "metadata": {},
   "outputs": [
    {
     "data": {
      "text/html": [
       "<div>\n",
       "<style scoped>\n",
       "    .dataframe tbody tr th:only-of-type {\n",
       "        vertical-align: middle;\n",
       "    }\n",
       "\n",
       "    .dataframe tbody tr th {\n",
       "        vertical-align: top;\n",
       "    }\n",
       "\n",
       "    .dataframe thead th {\n",
       "        text-align: right;\n",
       "    }\n",
       "</style>\n",
       "<table border=\"1\" class=\"dataframe\">\n",
       "  <thead>\n",
       "    <tr style=\"text-align: right;\">\n",
       "      <th></th>\n",
       "      <th>Original_title</th>\n",
       "      <th>Score</th>\n",
       "    </tr>\n",
       "  </thead>\n",
       "  <tbody>\n",
       "    <tr>\n",
       "      <th>0</th>\n",
       "      <td>The Shawshank Redemption</td>\n",
       "      <td>9.3</td>\n",
       "    </tr>\n",
       "    <tr>\n",
       "      <th>1</th>\n",
       "      <td>The Godfather</td>\n",
       "      <td>9.2</td>\n",
       "    </tr>\n",
       "    <tr>\n",
       "      <th>2</th>\n",
       "      <td>The Dark Knight</td>\n",
       "      <td>9.0</td>\n",
       "    </tr>\n",
       "    <tr>\n",
       "      <th>3</th>\n",
       "      <td>The Godfather: Part II</td>\n",
       "      <td>9.0</td>\n",
       "    </tr>\n",
       "    <tr>\n",
       "      <th>4</th>\n",
       "      <td>Pulp Fiction</td>\n",
       "      <td>8.9</td>\n",
       "    </tr>\n",
       "    <tr>\n",
       "      <th>5</th>\n",
       "      <td>The Lord of the Rings: The Return of the King</td>\n",
       "      <td>8.9</td>\n",
       "    </tr>\n",
       "    <tr>\n",
       "      <th>6</th>\n",
       "      <td>Schindler's List</td>\n",
       "      <td>8.9</td>\n",
       "    </tr>\n",
       "    <tr>\n",
       "      <th>7</th>\n",
       "      <td>12 Angry Men</td>\n",
       "      <td>8.9</td>\n",
       "    </tr>\n",
       "    <tr>\n",
       "      <th>8</th>\n",
       "      <td>Inception</td>\n",
       "      <td>8.8</td>\n",
       "    </tr>\n",
       "    <tr>\n",
       "      <th>9</th>\n",
       "      <td>Fight Club</td>\n",
       "      <td>8.8</td>\n",
       "    </tr>\n",
       "  </tbody>\n",
       "</table>\n",
       "</div>"
      ],
      "text/plain": [
       "                                  Original_title Score\n",
       "0                       The Shawshank Redemption   9.3\n",
       "1                                  The Godfather   9.2\n",
       "2                                The Dark Knight   9.0\n",
       "3                         The Godfather: Part II   9.0\n",
       "4                                   Pulp Fiction   8.9\n",
       "5  The Lord of the Rings: The Return of the King   8.9\n",
       "6                               Schindler's List   8.9\n",
       "7                                   12 Angry Men   8.9\n",
       "8                                      Inception   8.8\n",
       "9                                     Fight Club   8.8"
      ]
     },
     "execution_count": 134,
     "metadata": {},
     "output_type": "execute_result"
    }
   ],
   "source": [
    "top_10_rated = df[['Original_title', 'Score']].head(10)\n",
    "top_10_rated"
   ]
  },
  {
   "attachments": {},
   "cell_type": "markdown",
   "metadata": {},
   "source": [
    "> **Calculating the sum of Income that every country had from their native productions**"
   ]
  },
  {
   "cell_type": "code",
   "execution_count": 292,
   "metadata": {},
   "outputs": [
    {
     "data": {
      "text/plain": [
       "Country\n",
       "USA             14837110198\n",
       "New Zealand      2981432817\n",
       "UK               1774433981\n",
       "Japan             525575458\n",
       "Germany           398812631\n",
       "France            173924742\n",
       "Brazil             30680793\n",
       "Italy              25365392\n",
       "Iran               22926076\n",
       "Denmark            15843274\n",
       "South Korea        15002116\n",
       "West Germany       11487676\n",
       "Name: Income, dtype: int64"
      ]
     },
     "execution_count": 292,
     "metadata": {},
     "output_type": "execute_result"
    }
   ],
   "source": [
    "s = country_grp['Income'].apply(lambda x : x.sum())\n",
    "s.sort_values(ascending= False)"
   ]
  },
  {
   "cell_type": "code",
   "execution_count": 294,
   "metadata": {},
   "outputs": [
    {
     "name": "stdout",
     "output_type": "stream",
     "text": [
      "The max sum of income is from USA with the amount of 14.837.110.198 $.\n"
     ]
    }
   ],
   "source": [
    "print('The max sum of income is from USA with the amount of 14.837.110.198 $.')"
   ]
  },
  {
   "attachments": {},
   "cell_type": "markdown",
   "metadata": {},
   "source": [
    ">**#Q1:** Are the movies from 2000 and after better than 2000 and back?"
   ]
  },
  {
   "attachments": {},
   "cell_type": "markdown",
   "metadata": {},
   "source": [
    "- We will make a new column with the year of every movie that had been released"
   ]
  },
  {
   "cell_type": "code",
   "execution_count": 137,
   "metadata": {},
   "outputs": [],
   "source": [
    "df['Year'] = pd.DatetimeIndex(df['Release_year']).year"
   ]
  },
  {
   "attachments": {},
   "cell_type": "markdown",
   "metadata": {},
   "source": [
    "- Change the type of column Score"
   ]
  },
  {
   "cell_type": "code",
   "execution_count": 138,
   "metadata": {},
   "outputs": [],
   "source": [
    "df.at[21, 'Score'] = 8.6"
   ]
  },
  {
   "cell_type": "code",
   "execution_count": 139,
   "metadata": {},
   "outputs": [],
   "source": [
    "df['Score'] = df['Score'].astype('float')"
   ]
  },
  {
   "attachments": {},
   "cell_type": "markdown",
   "metadata": {},
   "source": [
    "- The average score of movies before 2000 is 8.32"
   ]
  },
  {
   "cell_type": "code",
   "execution_count": 140,
   "metadata": {},
   "outputs": [],
   "source": [
    "movies_before_2000 = df[df['Year'] < 2000]\n",
    "average_score_before_2000 = movies_before_2000['Score'].mean()"
   ]
  },
  {
   "attachments": {},
   "cell_type": "markdown",
   "metadata": {},
   "source": [
    "- The average score of movies after 2000 is 8.26"
   ]
  },
  {
   "cell_type": "code",
   "execution_count": 141,
   "metadata": {},
   "outputs": [],
   "source": [
    "movies_after_2000 = df[df['Year'] >= 2000]\n",
    "average_score_after_2000 = movies_after_2000['Score'].mean()"
   ]
  },
  {
   "attachments": {},
   "cell_type": "markdown",
   "metadata": {},
   "source": [
    "- We make a small DataFrame with 2 columns"
   ]
  },
  {
   "cell_type": "code",
   "execution_count": 142,
   "metadata": {},
   "outputs": [],
   "source": [
    "average_array = {\n",
    "    'Average' : [average_score_before_2000, average_score_after_2000],\n",
    "    'Year' : ['Before 2000', 'After 2000']\n",
    "    }\n",
    "avg_arr = pd.DataFrame(average_array)"
   ]
  },
  {
   "attachments": {},
   "cell_type": "markdown",
   "metadata": {},
   "source": [
    "*Visualization*"
   ]
  },
  {
   "cell_type": "code",
   "execution_count": 143,
   "metadata": {},
   "outputs": [
    {
     "data": {
      "text/plain": [
       "(8.0, 8.5)"
      ]
     },
     "execution_count": 143,
     "metadata": {},
     "output_type": "execute_result"
    },
    {
     "data": {
      "image/png": "[encoded data removed]",
      "text/plain": [
       "<Figure size 640x480 with 1 Axes>"
      ]
     },
     "metadata": {},
     "output_type": "display_data"
    }
   ],
   "source": [
    "plt.bar(avg_arr['Year'], avg_arr['Average'], width = 0.3, edgecolor = 'black', color = ['blue', 'green'] )\n",
    "plt.title('Score Rate: Before 2000 vs After 2000')\n",
    "plt.ylabel('Score')\n",
    "plt.xlabel('Years')\n",
    "\n",
    "#Display the y-axis values\n",
    "plt.ylim(8, 8.5)"
   ]
  },
  {
   "attachments": {},
   "cell_type": "markdown",
   "metadata": {},
   "source": [
    "- We drop the year column"
   ]
  },
  {
   "cell_type": "code",
   "execution_count": 144,
   "metadata": {},
   "outputs": [],
   "source": [
    "df.drop('Year', axis = 1, inplace= True)"
   ]
  },
  {
   "attachments": {},
   "cell_type": "markdown",
   "metadata": {},
   "source": [
    "**Answer:** Our hypothesis isn't right because the old movies are better than new!"
   ]
  },
  {
   "attachments": {},
   "cell_type": "markdown",
   "metadata": {},
   "source": [
    ">TODO**#Q2:** Movies With Most Votes Are Also The Greatest Movies Based On Their Score Rate."
   ]
  },
  {
   "cell_type": "code",
   "execution_count": 145,
   "metadata": {},
   "outputs": [
    {
     "data": {
      "text/html": [
       "<div>\n",
       "<style scoped>\n",
       "    .dataframe tbody tr th:only-of-type {\n",
       "        vertical-align: middle;\n",
       "    }\n",
       "\n",
       "    .dataframe tbody tr th {\n",
       "        vertical-align: top;\n",
       "    }\n",
       "\n",
       "    .dataframe thead th {\n",
       "        text-align: right;\n",
       "    }\n",
       "</style>\n",
       "<table border=\"1\" class=\"dataframe\">\n",
       "  <thead>\n",
       "    <tr style=\"text-align: right;\">\n",
       "      <th></th>\n",
       "      <th>IMBD_title_ID</th>\n",
       "      <th>Original_title</th>\n",
       "      <th>Release_year</th>\n",
       "      <th>Duration</th>\n",
       "      <th>Country</th>\n",
       "      <th>Content_Rating</th>\n",
       "      <th>Director</th>\n",
       "      <th>Income</th>\n",
       "      <th>Votes</th>\n",
       "      <th>Score</th>\n",
       "      <th>Genre1</th>\n",
       "      <th>Genre2</th>\n",
       "      <th>Genre3</th>\n",
       "    </tr>\n",
       "  </thead>\n",
       "  <tbody>\n",
       "    <tr>\n",
       "      <th>0</th>\n",
       "      <td>tt0111161</td>\n",
       "      <td>The Shawshank Redemption</td>\n",
       "      <td>1995-02-10</td>\n",
       "      <td>142</td>\n",
       "      <td>USA</td>\n",
       "      <td>R</td>\n",
       "      <td>Frank Darabont</td>\n",
       "      <td>28815245</td>\n",
       "      <td>2278845</td>\n",
       "      <td>9.3</td>\n",
       "      <td>Drama</td>\n",
       "      <td>None</td>\n",
       "      <td>None</td>\n",
       "    </tr>\n",
       "    <tr>\n",
       "      <th>1</th>\n",
       "      <td>tt0068646</td>\n",
       "      <td>The Godfather</td>\n",
       "      <td>1972-09-21</td>\n",
       "      <td>175</td>\n",
       "      <td>USA</td>\n",
       "      <td>R</td>\n",
       "      <td>Francis Ford Coppola</td>\n",
       "      <td>246120974</td>\n",
       "      <td>1572674</td>\n",
       "      <td>9.2</td>\n",
       "      <td>Crime</td>\n",
       "      <td>Drama</td>\n",
       "      <td>None</td>\n",
       "    </tr>\n",
       "    <tr>\n",
       "      <th>2</th>\n",
       "      <td>tt0468569</td>\n",
       "      <td>The Dark Knight</td>\n",
       "      <td>2008-07-23</td>\n",
       "      <td>152</td>\n",
       "      <td>USA</td>\n",
       "      <td>PG-13</td>\n",
       "      <td>Christopher Nolan</td>\n",
       "      <td>1005455211</td>\n",
       "      <td>2241615</td>\n",
       "      <td>9.0</td>\n",
       "      <td>Action</td>\n",
       "      <td>Crime</td>\n",
       "      <td>Drama</td>\n",
       "    </tr>\n",
       "    <tr>\n",
       "      <th>3</th>\n",
       "      <td>tt0071562</td>\n",
       "      <td>The Godfather: Part II</td>\n",
       "      <td>1975-09-25</td>\n",
       "      <td>220</td>\n",
       "      <td>USA</td>\n",
       "      <td>R</td>\n",
       "      <td>Francis Ford Coppola</td>\n",
       "      <td>408035783</td>\n",
       "      <td>1098714</td>\n",
       "      <td>9.0</td>\n",
       "      <td>Crime</td>\n",
       "      <td>Drama</td>\n",
       "      <td>None</td>\n",
       "    </tr>\n",
       "    <tr>\n",
       "      <th>4</th>\n",
       "      <td>tt0110912</td>\n",
       "      <td>Pulp Fiction</td>\n",
       "      <td>1994-10-28</td>\n",
       "      <td>0</td>\n",
       "      <td>USA</td>\n",
       "      <td>R</td>\n",
       "      <td>Quentin Tarantino</td>\n",
       "      <td>222831817</td>\n",
       "      <td>1780147</td>\n",
       "      <td>8.9</td>\n",
       "      <td>Crime</td>\n",
       "      <td>Drama</td>\n",
       "      <td>None</td>\n",
       "    </tr>\n",
       "  </tbody>\n",
       "</table>\n",
       "</div>"
      ],
      "text/plain": [
       "  IMBD_title_ID            Original_title Release_year Duration Country  \\\n",
       "0     tt0111161  The Shawshank Redemption   1995-02-10      142     USA   \n",
       "1     tt0068646             The Godfather   1972-09-21      175     USA   \n",
       "2     tt0468569           The Dark Knight   2008-07-23      152     USA   \n",
       "3     tt0071562    The Godfather: Part II   1975-09-25      220     USA   \n",
       "4     tt0110912              Pulp Fiction   1994-10-28        0     USA   \n",
       "\n",
       "  Content_Rating              Director      Income    Votes  Score  Genre1  \\\n",
       "0              R        Frank Darabont    28815245  2278845    9.3   Drama   \n",
       "1              R  Francis Ford Coppola   246120974  1572674    9.2   Crime   \n",
       "2          PG-13     Christopher Nolan  1005455211  2241615    9.0  Action   \n",
       "3              R  Francis Ford Coppola   408035783  1098714    9.0   Crime   \n",
       "4              R     Quentin Tarantino   222831817  1780147    8.9   Crime   \n",
       "\n",
       "  Genre2 Genre3  \n",
       "0   None   None  \n",
       "1  Drama   None  \n",
       "2  Crime  Drama  \n",
       "3  Drama   None  \n",
       "4  Drama   None  "
      ]
     },
     "execution_count": 145,
     "metadata": {},
     "output_type": "execute_result"
    }
   ],
   "source": [
    "df.head()"
   ]
  },
  {
   "attachments": {},
   "cell_type": "markdown",
   "metadata": {},
   "source": [
    ">**#Q3:** Which genre is the most popular among the movies in the dataset?"
   ]
  },
  {
   "cell_type": "code",
   "execution_count": 212,
   "metadata": {},
   "outputs": [],
   "source": [
    "genre1_count = (df['Genre1'].value_counts())\n",
    "genre2_count = (df['Genre2'].value_counts())\n",
    "genre3_count = (df['Genre3'].value_counts())\n",
    "genre = dict(pd.concat([genre1_count, genre2_count, genre3_count]))"
   ]
  },
  {
   "cell_type": "code",
   "execution_count": 216,
   "metadata": {},
   "outputs": [
    {
     "name": "stdout",
     "output_type": "stream",
     "text": [
      "Drama | 52\n",
      "Action | 15\n",
      "Crime | 18\n",
      "Adventure | 24\n",
      "Animation | 6\n",
      "Biography | 6\n",
      "Comedy | 8\n",
      "Western | 3\n",
      "Horror | 3\n",
      "Mystery | 8\n",
      "None | 44\n",
      "Romance | 5\n",
      "Sci-Fi | 9\n",
      "War | 4\n",
      "Family | 4\n",
      "Music | 2\n",
      "Thriller | 8\n",
      "Fantasy | 6\n",
      "History | 3\n"
     ]
    }
   ],
   "source": [
    "for gen in genre:\n",
    "    print(gen, '|', genre[gen].sum())"
   ]
  },
  {
   "attachments": {},
   "cell_type": "markdown",
   "metadata": {},
   "source": [
    ">**#Q4:** What is the average movie duration in the dataset?"
   ]
  },
  {
   "cell_type": "code",
   "execution_count": 230,
   "metadata": {},
   "outputs": [
    {
     "name": "stdout",
     "output_type": "stream",
     "text": [
      "Average movie duration in the dataset is 129.33 minutes.\n"
     ]
    }
   ],
   "source": [
    "print('Average movie duration in the dataset is {0:.2f} minutes.'.format(df['Duration'].mean()))"
   ]
  },
  {
   "attachments": {},
   "cell_type": "markdown",
   "metadata": {},
   "source": [
    ">**#Q5:** Which director has the highest average movie score in the dataset?"
   ]
  },
  {
   "cell_type": "code",
   "execution_count": 255,
   "metadata": {},
   "outputs": [],
   "source": [
    "group_directors = df.groupby(by = 'Director')"
   ]
  },
  {
   "cell_type": "code",
   "execution_count": 284,
   "metadata": {},
   "outputs": [],
   "source": [
    "highest_average_movies = group_directors['Score'].apply(lambda m : m.mean())\n",
    "highest_average_movies = pd.DataFrame(highest_average_movies)"
   ]
  },
  {
   "cell_type": "code",
   "execution_count": 289,
   "metadata": {},
   "outputs": [
    {
     "data": {
      "text/html": [
       "<div>\n",
       "<style scoped>\n",
       "    .dataframe tbody tr th:only-of-type {\n",
       "        vertical-align: middle;\n",
       "    }\n",
       "\n",
       "    .dataframe tbody tr th {\n",
       "        vertical-align: top;\n",
       "    }\n",
       "\n",
       "    .dataframe thead th {\n",
       "        text-align: right;\n",
       "    }\n",
       "</style>\n",
       "<table border=\"1\" class=\"dataframe\">\n",
       "  <thead>\n",
       "    <tr style=\"text-align: right;\">\n",
       "      <th></th>\n",
       "      <th>Score</th>\n",
       "    </tr>\n",
       "    <tr>\n",
       "      <th>Director</th>\n",
       "      <th></th>\n",
       "    </tr>\n",
       "  </thead>\n",
       "  <tbody>\n",
       "    <tr>\n",
       "      <th>Frank Darabont</th>\n",
       "      <td>8.95</td>\n",
       "    </tr>\n",
       "    <tr>\n",
       "      <th>Sidney Lumet</th>\n",
       "      <td>8.90</td>\n",
       "    </tr>\n",
       "    <tr>\n",
       "      <th>Peter Jackson</th>\n",
       "      <td>8.80</td>\n",
       "    </tr>\n",
       "    <tr>\n",
       "      <th>Francis Ford Coppola</th>\n",
       "      <td>8.80</td>\n",
       "    </tr>\n",
       "    <tr>\n",
       "      <th>David Fincher</th>\n",
       "      <td>8.70</td>\n",
       "    </tr>\n",
       "  </tbody>\n",
       "</table>\n",
       "</div>"
      ],
      "text/plain": [
       "                      Score\n",
       "Director                   \n",
       "Frank Darabont         8.95\n",
       "Sidney Lumet           8.90\n",
       "Peter Jackson          8.80\n",
       "Francis Ford Coppola   8.80\n",
       "David Fincher          8.70"
      ]
     },
     "execution_count": 289,
     "metadata": {},
     "output_type": "execute_result"
    }
   ],
   "source": [
    "highest_average_movies.sort_values(by = 'Score', ascending= False).head(5)"
   ]
  },
  {
   "attachments": {},
   "cell_type": "markdown",
   "metadata": {},
   "source": [
    ">**#Q6:** Are there any correlations between movie duration, income, and score?"
   ]
  },
  {
   "cell_type": "code",
   "execution_count": 296,
   "metadata": {},
   "outputs": [
    {
     "name": "stderr",
     "output_type": "stream",
     "text": [
      "C:\\Users\\xrist\\AppData\\Local\\Temp\\ipykernel_3916\\170959927.py:1: FutureWarning: The default value of numeric_only in DataFrame.corr is deprecated. In a future version, it will default to False. Select only valid columns or specify the value of numeric_only to silence this warning.\n",
      "  df_corr = df.corr()\n"
     ]
    },
    {
     "data": {
      "text/plain": [
       "<AxesSubplot: >"
      ]
     },
     "execution_count": 296,
     "metadata": {},
     "output_type": "execute_result"
    },
    {
     "data": {
      "image/png": "[encoded data removed]",
      "text/plain": [
       "<Figure size 640x480 with 2 Axes>"
      ]
     },
     "metadata": {},
     "output_type": "display_data"
    }
   ],
   "source": [
    "df_corr = df.corr()\n",
    "sns.heatmap(df_corr, cmap = 'coolwarm', annot = True )"
   ]
  },
  {
   "attachments": {},
   "cell_type": "markdown",
   "metadata": {},
   "source": [
    "**Answer #Q6:** There is not any correlation."
   ]
  },
  {
   "attachments": {},
   "cell_type": "markdown",
   "metadata": {},
   "source": [
    ">**#Q7:** How many movies in the dataset have a content rating?"
   ]
  },
  {
   "cell_type": "code",
   "execution_count": 301,
   "metadata": {},
   "outputs": [
    {
     "data": {
      "text/plain": [
       "R            44\n",
       "PG-13        12\n",
       "PG           11\n",
       "G             6\n",
       "Not Rated     1\n",
       "Approved      1\n",
       "Unrated       1\n",
       "Name: Content_Rating, dtype: int64"
      ]
     },
     "execution_count": 301,
     "metadata": {},
     "output_type": "execute_result"
    }
   ],
   "source": [
    "count_content = df['Content_Rating'].value_counts()"
   ]
  },
  {
   "cell_type": "code",
   "execution_count": 309,
   "metadata": {},
   "outputs": [
    {
     "data": {
      "text/plain": [
       "Text(0, 0.5, 'Count')"
      ]
     },
     "execution_count": 309,
     "metadata": {},
     "output_type": "execute_result"
    },
    {
     "data": {
      "image/png": "[encoded data removed]",
      "text/plain": [
       "<Figure size 640x480 with 1 Axes>"
      ]
     },
     "metadata": {},
     "output_type": "display_data"
    }
   ],
   "source": [
    "colors_plt = ['red', 'green', 'blue', 'orange', 'white', 'white', 'white']\n",
    "plt.bar(count_content.index, count_content, edgecolor = 'Black', color = colors_plt)\n",
    "plt.title('Content Rating')\n",
    "plt.xlabel('Content Rating')\n",
    "plt.ylabel('Count')"
   ]
  },
  {
   "attachments": {},
   "cell_type": "markdown",
   "metadata": {},
   "source": [
    ">**Top 10 Most Voted Movies**"
   ]
  },
  {
   "cell_type": "code",
   "execution_count": 146,
   "metadata": {},
   "outputs": [
    {
     "data": {
      "text/html": [
       "<div>\n",
       "<style scoped>\n",
       "    .dataframe tbody tr th:only-of-type {\n",
       "        vertical-align: middle;\n",
       "    }\n",
       "\n",
       "    .dataframe tbody tr th {\n",
       "        vertical-align: top;\n",
       "    }\n",
       "\n",
       "    .dataframe thead th {\n",
       "        text-align: right;\n",
       "    }\n",
       "</style>\n",
       "<table border=\"1\" class=\"dataframe\">\n",
       "  <thead>\n",
       "    <tr style=\"text-align: right;\">\n",
       "      <th></th>\n",
       "      <th>IMBD_title_ID</th>\n",
       "      <th>Original_title</th>\n",
       "      <th>Release_year</th>\n",
       "      <th>Duration</th>\n",
       "      <th>Country</th>\n",
       "      <th>Content_Rating</th>\n",
       "      <th>Director</th>\n",
       "      <th>Income</th>\n",
       "      <th>Votes</th>\n",
       "      <th>Score</th>\n",
       "      <th>Genre1</th>\n",
       "      <th>Genre2</th>\n",
       "      <th>Genre3</th>\n",
       "    </tr>\n",
       "  </thead>\n",
       "  <tbody>\n",
       "    <tr>\n",
       "      <th>0</th>\n",
       "      <td>tt0111161</td>\n",
       "      <td>The Shawshank Redemption</td>\n",
       "      <td>1995-02-10</td>\n",
       "      <td>142</td>\n",
       "      <td>USA</td>\n",
       "      <td>R</td>\n",
       "      <td>Frank Darabont</td>\n",
       "      <td>28815245</td>\n",
       "      <td>2278845</td>\n",
       "      <td>9.3</td>\n",
       "      <td>Drama</td>\n",
       "      <td>None</td>\n",
       "      <td>None</td>\n",
       "    </tr>\n",
       "    <tr>\n",
       "      <th>2</th>\n",
       "      <td>tt0468569</td>\n",
       "      <td>The Dark Knight</td>\n",
       "      <td>2008-07-23</td>\n",
       "      <td>152</td>\n",
       "      <td>USA</td>\n",
       "      <td>PG-13</td>\n",
       "      <td>Christopher Nolan</td>\n",
       "      <td>1005455211</td>\n",
       "      <td>2241615</td>\n",
       "      <td>9.0</td>\n",
       "      <td>Action</td>\n",
       "      <td>Crime</td>\n",
       "      <td>Drama</td>\n",
       "    </tr>\n",
       "    <tr>\n",
       "      <th>8</th>\n",
       "      <td>tt1375666</td>\n",
       "      <td>Inception</td>\n",
       "      <td>2010-09-24</td>\n",
       "      <td>148</td>\n",
       "      <td>USA</td>\n",
       "      <td>PG-13</td>\n",
       "      <td>Christopher Nolan</td>\n",
       "      <td>869784991</td>\n",
       "      <td>2002816</td>\n",
       "      <td>8.8</td>\n",
       "      <td>Action</td>\n",
       "      <td>Adventure</td>\n",
       "      <td>Sci-Fi</td>\n",
       "    </tr>\n",
       "    <tr>\n",
       "      <th>9</th>\n",
       "      <td>tt0137523</td>\n",
       "      <td>Fight Club</td>\n",
       "      <td>1999-10-29</td>\n",
       "      <td>0</td>\n",
       "      <td>UK</td>\n",
       "      <td>R</td>\n",
       "      <td>David Fincher</td>\n",
       "      <td>101218804</td>\n",
       "      <td>1807440</td>\n",
       "      <td>8.8</td>\n",
       "      <td>Drama</td>\n",
       "      <td>None</td>\n",
       "      <td>None</td>\n",
       "    </tr>\n",
       "    <tr>\n",
       "      <th>4</th>\n",
       "      <td>tt0110912</td>\n",
       "      <td>Pulp Fiction</td>\n",
       "      <td>1994-10-28</td>\n",
       "      <td>0</td>\n",
       "      <td>USA</td>\n",
       "      <td>R</td>\n",
       "      <td>Quentin Tarantino</td>\n",
       "      <td>222831817</td>\n",
       "      <td>1780147</td>\n",
       "      <td>8.9</td>\n",
       "      <td>Crime</td>\n",
       "      <td>Drama</td>\n",
       "      <td>None</td>\n",
       "    </tr>\n",
       "    <tr>\n",
       "      <th>10</th>\n",
       "      <td>tt0109830</td>\n",
       "      <td>Forrest Gump</td>\n",
       "      <td>1994-10-06</td>\n",
       "      <td>142</td>\n",
       "      <td>USA</td>\n",
       "      <td>PG-13</td>\n",
       "      <td>Robert Zemeckis</td>\n",
       "      <td>678229452</td>\n",
       "      <td>1755490</td>\n",
       "      <td>8.8</td>\n",
       "      <td>Drama</td>\n",
       "      <td>Romance</td>\n",
       "      <td>None</td>\n",
       "    </tr>\n",
       "    <tr>\n",
       "      <th>11</th>\n",
       "      <td>tt0120737</td>\n",
       "      <td>The Lord of the Rings: The Fellowship of the Ring</td>\n",
       "      <td>2002-01-18</td>\n",
       "      <td>178</td>\n",
       "      <td>New Zealand</td>\n",
       "      <td>PG-13</td>\n",
       "      <td>Peter Jackson</td>\n",
       "      <td>887934303</td>\n",
       "      <td>1619920</td>\n",
       "      <td>8.8</td>\n",
       "      <td>Action</td>\n",
       "      <td>Adventure</td>\n",
       "      <td>Drama</td>\n",
       "    </tr>\n",
       "    <tr>\n",
       "      <th>5</th>\n",
       "      <td>tt0167260</td>\n",
       "      <td>The Lord of the Rings: The Return of the King</td>\n",
       "      <td>2004-02-22</td>\n",
       "      <td>201</td>\n",
       "      <td>New Zealand</td>\n",
       "      <td>PG-13</td>\n",
       "      <td>Peter Jackson</td>\n",
       "      <td>1142271098</td>\n",
       "      <td>1604280</td>\n",
       "      <td>8.9</td>\n",
       "      <td>Action</td>\n",
       "      <td>Adventure</td>\n",
       "      <td>Drama</td>\n",
       "    </tr>\n",
       "    <tr>\n",
       "      <th>1</th>\n",
       "      <td>tt0068646</td>\n",
       "      <td>The Godfather</td>\n",
       "      <td>1972-09-21</td>\n",
       "      <td>175</td>\n",
       "      <td>USA</td>\n",
       "      <td>R</td>\n",
       "      <td>Francis Ford Coppola</td>\n",
       "      <td>246120974</td>\n",
       "      <td>1572674</td>\n",
       "      <td>9.2</td>\n",
       "      <td>Crime</td>\n",
       "      <td>Drama</td>\n",
       "      <td>None</td>\n",
       "    </tr>\n",
       "    <tr>\n",
       "      <th>50</th>\n",
       "      <td>tt1345836</td>\n",
       "      <td>The Dark Knight Rises</td>\n",
       "      <td>2012-08-29</td>\n",
       "      <td>164</td>\n",
       "      <td>UK</td>\n",
       "      <td>PG-13</td>\n",
       "      <td>Christopher Nolan</td>\n",
       "      <td>1081133191</td>\n",
       "      <td>1480582</td>\n",
       "      <td>8.3</td>\n",
       "      <td>Action</td>\n",
       "      <td>Adventure</td>\n",
       "      <td>None</td>\n",
       "    </tr>\n",
       "  </tbody>\n",
       "</table>\n",
       "</div>"
      ],
      "text/plain": [
       "   IMBD_title_ID                                     Original_title  \\\n",
       "0      tt0111161                           The Shawshank Redemption   \n",
       "2      tt0468569                                    The Dark Knight   \n",
       "8      tt1375666                                          Inception   \n",
       "9      tt0137523                                         Fight Club   \n",
       "4      tt0110912                                       Pulp Fiction   \n",
       "10     tt0109830                                       Forrest Gump   \n",
       "11     tt0120737  The Lord of the Rings: The Fellowship of the Ring   \n",
       "5      tt0167260      The Lord of the Rings: The Return of the King   \n",
       "1      tt0068646                                      The Godfather   \n",
       "50     tt1345836                              The Dark Knight Rises   \n",
       "\n",
       "   Release_year Duration      Country Content_Rating              Director  \\\n",
       "0    1995-02-10      142          USA              R        Frank Darabont   \n",
       "2    2008-07-23      152          USA          PG-13     Christopher Nolan   \n",
       "8    2010-09-24      148          USA          PG-13     Christopher Nolan   \n",
       "9    1999-10-29        0           UK              R         David Fincher   \n",
       "4    1994-10-28        0          USA              R     Quentin Tarantino   \n",
       "10   1994-10-06      142          USA          PG-13       Robert Zemeckis   \n",
       "11   2002-01-18      178  New Zealand          PG-13         Peter Jackson   \n",
       "5    2004-02-22      201  New Zealand          PG-13         Peter Jackson   \n",
       "1    1972-09-21      175          USA              R  Francis Ford Coppola   \n",
       "50   2012-08-29      164           UK          PG-13     Christopher Nolan   \n",
       "\n",
       "        Income    Votes  Score  Genre1     Genre2  Genre3  \n",
       "0     28815245  2278845    9.3   Drama       None    None  \n",
       "2   1005455211  2241615    9.0  Action      Crime   Drama  \n",
       "8    869784991  2002816    8.8  Action  Adventure  Sci-Fi  \n",
       "9    101218804  1807440    8.8   Drama       None    None  \n",
       "4    222831817  1780147    8.9   Crime      Drama    None  \n",
       "10   678229452  1755490    8.8   Drama    Romance    None  \n",
       "11   887934303  1619920    8.8  Action  Adventure   Drama  \n",
       "5   1142271098  1604280    8.9  Action  Adventure   Drama  \n",
       "1    246120974  1572674    9.2   Crime      Drama    None  \n",
       "50  1081133191  1480582    8.3  Action  Adventure    None  "
      ]
     },
     "execution_count": 146,
     "metadata": {},
     "output_type": "execute_result"
    }
   ],
   "source": [
    "df.sort_values(by = 'Votes', ascending= False).head(10)"
   ]
  }
 ],
 "metadata": {
  "kernelspec": {
   "display_name": "Python 3",
   "language": "python",
   "name": "python3"
  },
  "language_info": {
   "codemirror_mode": {
    "name": "ipython",
    "version": 3
   },
   "file_extension": ".py",
   "mimetype": "text/x-python",
   "name": "python",
   "nbconvert_exporter": "python",
   "pygments_lexer": "ipython3",
   "version": "3.10.10"
  },
  "orig_nbformat": 4,
  "vscode": {
   "interpreter": {
    "hash": "0a674e8a3eb07286a08f7b200e506c08f75d92b7fdc47fd1c80157edeb60b5e9"
   }
  }
 },
 "nbformat": 4,
 "nbformat_minor": 2
}
